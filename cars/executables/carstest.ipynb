{
 "cells": [
  {
   "cell_type": "code",
   "execution_count": 57,
   "metadata": {},
   "outputs": [
    {
     "name": "stdout",
     "output_type": "stream",
     "text": [
      "The autoreload extension is already loaded. To reload it, use:\n",
      "  %reload_ext autoreload\n"
     ]
    }
   ],
   "source": [
    "%load_ext autoreload\n",
    "%autoreload 2"
   ]
  },
  {
   "cell_type": "code",
   "execution_count": 58,
   "metadata": {},
   "outputs": [],
   "source": [
    "import numpy as np\n",
    "from cars.code.optimizers.optimizers import CARS\n",
    "from cars.code.utils.util_funcs import read_configs_from_json"
   ]
  },
  {
   "cell_type": "code",
   "execution_count": 59,
   "metadata": {},
   "outputs": [
    {
     "name": "stdout",
     "output_type": "stream",
     "text": [
      "test config for CARS optimizer: Initialization done.\n",
      "\tmax evaluation = 50\n",
      "\tx_0 = [1.24619351 0.17239006 1.04305159 0.39639389 0.96007323]\n",
      "\tf(x_0) = 3.7495419195373296\n",
      "\tbudget = 50\n",
      "\tf_target = 0.0001\n",
      "\n"
     ]
    }
   ],
   "source": [
    "configs = read_configs_from_json('../configs/benchmarks.json')\n",
    "cars_config = configs['CARS_simple']\n",
    "cars_config['verbose'] = 2\n",
    "cars = CARS(cars_config, x0 = np.random.randn(5))"
   ]
  },
  {
   "cell_type": "code",
   "execution_count": 61,
   "metadata": {},
   "outputs": [
    {
     "name": "stdout",
     "output_type": "stream",
     "text": [
      "Finished: Reached the max number of evaluations\n",
      "Current status = Reached the max number of evaluations\n",
      "\teval_cnt = 50\n",
      "\tfsol = 1.858583e-01\n",
      "\tsol = [ 0.13608885  0.21913434  0.23130247 -0.24266953  0.08324031]\n"
     ]
    }
   ],
   "source": [
    "cars.optimize()"
   ]
  }
 ],
 "metadata": {
  "kernelspec": {
   "display_name": "base",
   "language": "python",
   "name": "python3"
  },
  "language_info": {
   "codemirror_mode": {
    "name": "ipython",
    "version": 3
   },
   "file_extension": ".py",
   "mimetype": "text/x-python",
   "name": "python",
   "nbconvert_exporter": "python",
   "pygments_lexer": "ipython3",
   "version": "3.10.9"
  }
 },
 "nbformat": 4,
 "nbformat_minor": 2
}
